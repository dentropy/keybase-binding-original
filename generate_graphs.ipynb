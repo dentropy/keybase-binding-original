{
 "cells": [
  {
   "cell_type": "code",
   "execution_count": 1,
   "metadata": {},
   "outputs": [],
   "source": [
    "import matplotlib.pyplot as plt\n",
    "from generate_analyitcs import GeneratedAnalyitcs"
   ]
  },
  {
   "cell_type": "code",
   "execution_count": 2,
   "metadata": {},
   "outputs": [
    {
     "name": "stdout",
     "output_type": "stream",
     "text": [
      "['general', 'flipped-discussion', 'introductions', 'explore-KMS', 'i-need-a-team', 'random', 'explore-crowd-meter', 'explore-complexity', 'explore-ecosystems', 'explore-computation', 'explore-sociophysics', 'flipped-classroom', 'explore-foodforest', 'explore-cities', 'tech-support', 'explore-economics', 'explore-health', 'explore-tech-onboard', 'explore-neuro', 'explore-art', 'requests', 'explore-sensemaking', 'explore-embodiment', 'explore-data-gov', 'explore-climate', 'explore-mind-village', 'explore-agent-based', 'explore-entrepreneur', 'ask-the-facilitators', 'explore-complexbooks', 'explore-engineering', 'explore-quotes', 'explore-scalefreecog', 'explore-governance', 'explore-data-viz', 'explore-mentalhealth', 'reading-list', 'explore-elections', 'explore-sustainable', 'explore-pandemics']\n"
     ]
    }
   ],
   "source": [
    "gen_an = GeneratedAnalyitcs(\"sqlite:///complexityweekend.sqlite\")"
   ]
  },
  {
   "cell_type": "code",
   "execution_count": 3,
   "metadata": {},
   "outputs": [
    {
     "data": {
      "image/png": "[encoded data removed]",
      "text/plain": [
       "<Figure size 432x288 with 1 Axes>"
      ]
     },
     "metadata": {
      "needs_background": "light"
     },
     "output_type": "display_data"
    }
   ],
   "source": [
    "plt.plot(gen_an.characters_per_user[\"users_list\"],gen_an.characters_per_user[\"characters_list\"])\n",
    "plt.title(\"Characters Per User, Num Users = \" + str(len(gen_an.characters_per_user[\"users_list\"])))\n",
    "plt.gca().axes.xaxis.set_visible(False)\n",
    "plt.show()"
   ]
  },
  {
   "cell_type": "code",
   "execution_count": 4,
   "metadata": {},
   "outputs": [
    {
     "data": {
      "image/png": "[encoded data removed]",
      "text/plain": [
       "<Figure size 432x288 with 1 Axes>"
      ]
     },
     "metadata": {
      "needs_background": "light"
     },
     "output_type": "display_data"
    }
   ],
   "source": [
    "plt.plot(gen_an.characters_per_topic[\"topics_list\"],gen_an.characters_per_topic[\"characters_list\"])\n",
    "plt.title(\"Characters Per Topic, Num Topics = \" + str(len(gen_an.characters_per_topic[\"topics_list\"])))\n",
    "plt.gca().axes.xaxis.set_visible(False)\n",
    "plt.show()"
   ]
  },
  {
   "cell_type": "code",
   "execution_count": 5,
   "metadata": {},
   "outputs": [
    {
     "ename": "NameError",
     "evalue": "name 'messages_per_user' is not defined",
     "output_type": "error",
     "traceback": [
      "\u001b[0;31m---------------------------------------------------------------------------\u001b[0m",
      "\u001b[0;31mNameError\u001b[0m                                 Traceback (most recent call last)",
      "\u001b[0;32m<ipython-input-5-857f6036029d>\u001b[0m in \u001b[0;36m<module>\u001b[0;34m\u001b[0m\n\u001b[1;32m      1\u001b[0m \u001b[0musers\u001b[0m \u001b[0;34m=\u001b[0m \u001b[0;34m[\u001b[0m\u001b[0;34m]\u001b[0m\u001b[0;34m\u001b[0m\u001b[0;34m\u001b[0m\u001b[0m\n\u001b[0;32m----> 2\u001b[0;31m \u001b[0;32mfor\u001b[0m \u001b[0msublist\u001b[0m \u001b[0;32min\u001b[0m \u001b[0mmessages_per_user\u001b[0m\u001b[0;34m:\u001b[0m\u001b[0;34m\u001b[0m\u001b[0;34m\u001b[0m\u001b[0m\n\u001b[0m\u001b[1;32m      3\u001b[0m     \u001b[0musers\u001b[0m\u001b[0;34m.\u001b[0m\u001b[0mappend\u001b[0m\u001b[0;34m(\u001b[0m\u001b[0msublist\u001b[0m\u001b[0;34m[\u001b[0m\u001b[0;36m0\u001b[0m\u001b[0;34m]\u001b[0m\u001b[0;34m)\u001b[0m\u001b[0;34m\u001b[0m\u001b[0;34m\u001b[0m\u001b[0m\n\u001b[1;32m      4\u001b[0m \u001b[0mcharacters\u001b[0m \u001b[0;34m=\u001b[0m \u001b[0;34m[\u001b[0m\u001b[0;34m]\u001b[0m\u001b[0;34m\u001b[0m\u001b[0;34m\u001b[0m\u001b[0m\n\u001b[1;32m      5\u001b[0m \u001b[0;32mfor\u001b[0m \u001b[0msublist\u001b[0m \u001b[0;32min\u001b[0m \u001b[0mmessages_per_user\u001b[0m\u001b[0;34m:\u001b[0m\u001b[0;34m\u001b[0m\u001b[0;34m\u001b[0m\u001b[0m\n",
      "\u001b[0;31mNameError\u001b[0m: name 'messages_per_user' is not defined"
     ]
    }
   ],
   "source": [
    "users = [] \n",
    "for sublist in messages_per_user:\n",
    "    users.append(sublist[0])\n",
    "characters = [] \n",
    "for sublist in messages_per_user:\n",
    "    characters.append(sublist[1])\n",
    "plt.plot(users,characters)\n",
    "plt.title(\"Messages Per User, Num Users = \" + str(len(users)))\n",
    "plt.gca().axes.xaxis.set_visible(False)\n",
    "plt.show()"
   ]
  },
  {
   "cell_type": "code",
   "execution_count": null,
   "metadata": {},
   "outputs": [],
   "source": [
    "users = [] \n",
    "for i in range(len(messages_per_user)):\n",
    "    users.append(i)\n",
    "characters = [] \n",
    "for sublist in messages_per_user:\n",
    "    characters.append(sublist[1])\n",
    "plt.loglog(users,characters)\n",
    "plt.title(\"Messages Per User, Num Users = \" + str(len(users)))\n",
    "plt.gca().axes.xaxis.set_visible(False)\n",
    "plt.show()"
   ]
  },
  {
   "cell_type": "code",
   "execution_count": null,
   "metadata": {},
   "outputs": [],
   "source": [
    "topics = [] \n",
    "for sublist in messages_per_topic:\n",
    "    topics.append(sublist[0])\n",
    "characters = [] \n",
    "for sublist in messages_per_topic:\n",
    "    characters.append(sublist[1])\n",
    "plt.plot(topics,characters)\n",
    "plt.title(\"Messages Per Topic, Num Topics = \" + str(len(topics)))\n",
    "plt.gca().axes.xaxis.set_visible(False)\n",
    "plt.show()"
   ]
  },
  {
   "cell_type": "code",
   "execution_count": null,
   "metadata": {},
   "outputs": [],
   "source": [
    "topics = [] \n",
    "for sublist in number_users_per_topic:\n",
    "    topics.append(sublist[0])\n",
    "users = [] \n",
    "for sublist in number_users_per_topic:\n",
    "    users.append(sublist[1])\n",
    "plt.pie(users, labels=topics,autopct='%1.1f%%', shadow=True, startangle=140)\n",
    "plt.title(\"Num Of Users Per Topic\")\n",
    "plt.axis('equal')\n",
    "plt.show()"
   ]
  }
 ],
 "metadata": {
  "kernelspec": {
   "display_name": "Python 3",
   "language": "python",
   "name": "python3"
  },
  "language_info": {
   "codemirror_mode": {
    "name": "ipython",
    "version": 3
   },
   "file_extension": ".py",
   "mimetype": "text/x-python",
   "name": "python",
   "nbconvert_exporter": "python",
   "pygments_lexer": "ipython3",
   "version": "3.8.3"
  }
 },
 "nbformat": 4,
 "nbformat_minor": 4
}
