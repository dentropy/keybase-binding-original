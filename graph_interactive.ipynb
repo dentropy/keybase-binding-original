{
 "cells": [
  {
   "cell_type": "code",
   "execution_count": null,
   "metadata": {},
   "outputs": [],
   "source": [
    "from matplotlib import pyplot as plt\n",
    "from generate_analytics import GeneratedAnalytics\n",
    "from GenerateGraphs import GenerateGraphs\n",
    "from ipywidgets import interact\n",
    "import pprint"
   ]
  },
  {
   "cell_type": "code",
   "execution_count": null,
   "metadata": {},
   "outputs": [],
   "source": [
    "gen_an = GeneratedAnalytics(\"sqlite:///exports/dentropydaemon.sqlite\")"
   ]
  },
  {
   "cell_type": "code",
   "execution_count": null,
   "metadata": {},
   "outputs": [],
   "source": [
    "gen_graphs = GenerateGraphs()"
   ]
  },
  {
   "cell_type": "code",
   "execution_count": null,
   "metadata": {},
   "outputs": [],
   "source": [
    "def choose_graph(x):\n",
    "    if x == \"Characters Per User\":\n",
    "        gen_graphs.generate_plots(gen_an.characters_per_user)\n",
    "    elif x == \"Characters Per Topic\":\n",
    "        gen_graphs.generate_plots(gen_an.characters_per_topic)\n",
    "    elif x == \"Messages Per User\":\n",
    "        gen_graphs.generate_plots(gen_an.messages_per_user)\n",
    "    elif x == \"Messages Per Topic\":\n",
    "        gen_graphs.generate_plots(gen_an.messages_per_topic)\n",
    "    elif x == \"Number User Per Topic\":\n",
    "        gen_graphs.generate_plots(gen_an.number_users_per_topic)\n",
    "    elif x == \"reaction_type_popularity\":\n",
    "        gen_graphs.generate_plots(gen_an.reaction_type_popularity)\n",
    "    elif x == \"user_sent_most_reactions\":\n",
    "        gen_graphs.generate_plots(gen_an.user_sent_most_reactions)\n",
    "    elif x == \"user_recieved_most_reactions\":\n",
    "        gen_graphs.generate_plots(gen_an.user_recieved_most_reactions)\n",
    "    elif x == \"who_edits_most_per_capita\":\n",
    "        gen_graphs.generate_plots(gen_an.who_edits_most_per_capita)\n",
    "    elif x == \"who_deletes_most_per_capita\":\n",
    "        gen_graphs.generate_plots(gen_an.who_deletes_most_per_capita)\n",
    "    elif x == \"topic_edits_per_capita\":\n",
    "        gen_graphs.generate_plots(gen_an.topic_edits_per_capita)\n",
    "    elif x == \"topic_deletes_per_capita\":\n",
    "        gen_graphs.generate_plots(gen_an.topic_deletes_per_capita)\n",
    "interact(choose_graph, x=['Click Here to Generate a Graph', \n",
    "                          'Characters Per User',\n",
    "                          'Characters Per Topic',\n",
    "                          'Messages Per Topic',\n",
    "                          'Messages Per User',\n",
    "                          'Number User Per Topic',\n",
    "                          'reaction_type_popularity',\n",
    "                          'user_sent_most_reactions',\n",
    "                          'user_recieved_most_reactions',\n",
    "                          'who_edits_most_per_capita',\n",
    "                          'who_deletes_most_per_capita',\n",
    "                          'topic_edits_per_capita',\n",
    "                          'topic_deletes_per_capita'\n",
    "                         ]);"
   ]
  }
 ],
 "metadata": {
  "kernelspec": {
   "display_name": "Python 3",
   "language": "python",
   "name": "python3"
  },
  "language_info": {
   "codemirror_mode": {
    "name": "ipython",
    "version": 3
   },
   "file_extension": ".py",
   "mimetype": "text/x-python",
   "name": "python",
   "nbconvert_exporter": "python",
   "pygments_lexer": "ipython3",
   "version": "3.8.5"
  }
 },
 "nbformat": 4,
 "nbformat_minor": 4
}
