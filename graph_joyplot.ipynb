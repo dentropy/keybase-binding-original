{
 "cells": [
  {
   "cell_type": "code",
   "execution_count": null,
   "metadata": {},
   "outputs": [],
   "source": [
    "from matplotlib import pyplot as plt\n",
    "from datetime import *\n",
    "from matplotlib import cm\n",
    "from generate_analytics import GeneratedAnalytics\n",
    "import numpy as np\n",
    "import joypy\n",
    "import math"
   ]
  },
  {
   "cell_type": "code",
   "execution_count": null,
   "metadata": {},
   "outputs": [],
   "source": [
    "gen_an = GeneratedAnalytics(\"sqlite:///dentropydaemon.sqlite\")"
   ]
  },
  {
   "cell_type": "code",
   "execution_count": null,
   "metadata": {},
   "outputs": [],
   "source": [
    "def generate_joyplot(df=None, \n",
    "                     by=None,\n",
    "                     column=None, \n",
    "                     sortby=None,\n",
    "                     title=\"Distributions\",\n",
    "                     xlab=None,\n",
    "                     figsize=(5,20), \n",
    "                     x_range=None, \n",
    "                     fade=False, \n",
    "                     kind=\"kde\", \n",
    "                     labels=False, \n",
    "                     colormap=cm.Accent_r):\n",
    "    # Makes \"stacked\" distributions using joyplot package. df is a pandas data frame.\n",
    "    if sortby is not None:\n",
    "        df = df.sort_values(by=sortby)\n",
    "    fig, axes = joypy.joyplot(df, by=by, column=column, \n",
    "                              range_style='own', \n",
    "                              grid=\"y\", \n",
    "                              linewidth=1.5, \n",
    "                              figsize=figsize, \n",
    "                              x_range=x_range, \n",
    "                              legend=False, \n",
    "                              title=title, \n",
    "                              labels=labels,\n",
    "                              kind=kind, \n",
    "                              colormap=colormap, \n",
    "                              fade=fade)\n",
    "    if xlab is None:\n",
    "        xlab = column\n",
    "    axes[1].xlabel = xlab"
   ]
  },
  {
   "cell_type": "code",
   "execution_count": null,
   "metadata": {},
   "outputs": [],
   "source": [
    "df = gen_an.get_message_data_frames(offset_time=1600000000)"
   ]
  },
  {
   "cell_type": "code",
   "execution_count": null,
   "metadata": {},
   "outputs": [],
   "source": [
    "n_rows = df.shape[0]\n",
    "data = [None]*n_rows\n",
    "for i in range(n_rows):\n",
    "    data[i] = round(math.sqrt(df.word_count[i]))\n",
    "df['sqrt_word_count'] = data\n",
    "df.head()"
   ]
  },
  {
   "cell_type": "code",
   "execution_count": null,
   "metadata": {},
   "outputs": [],
   "source": [
    "generate_joyplot(df=df, by=\"topic\", column=\"sqrt_word_count\", \n",
    "                 sortby=\"characters_per_topic\", \n",
    "                 title=\"Distribution of Words per Message\\n(By Topic)\", \n",
    "                 figsize=(8,8), \n",
    "                 fade=True,\n",
    "                 kind=\"kde\", \n",
    "                 labels=None, \n",
    "                 colormap=cm.afmhot_r)"
   ]
  }
 ],
 "metadata": {
  "kernelspec": {
   "display_name": "Python 3",
   "language": "python",
   "name": "python3"
  },
  "language_info": {
   "codemirror_mode": {
    "name": "ipython",
    "version": 3
   },
   "file_extension": ".py",
   "mimetype": "text/x-python",
   "name": "python",
   "nbconvert_exporter": "python",
   "pygments_lexer": "ipython3",
   "version": "3.8.5"
  }
 },
 "nbformat": 4,
 "nbformat_minor": 4
}