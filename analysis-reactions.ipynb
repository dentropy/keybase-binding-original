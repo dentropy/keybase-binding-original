{
 "cells": [
  {
   "cell_type": "code",
   "execution_count": null,
   "metadata": {},
   "outputs": [],
   "source": [
    "import matplotlib.pyplot as plt\n",
    "from generate_analytics import GeneratedAnalytics\n",
    "gen_an = GeneratedAnalytics(\"sqlite:///raw_dentropydaemon.sqlite\")"
   ]
  },
  {
   "cell_type": "code",
   "execution_count": null,
   "metadata": {},
   "outputs": [],
   "source": [
    "print(\"Users who sent most reactions\")\n",
    "print(\"-----------------------------------------------------\")\n",
    "gen_an.get_reaction_sent_per_user\n",
    "for user in gen_an.reaction_sent_per_user[\"ordered_user\"][:10]:\n",
    "    print(user)\n",
    "    print(\"Num of reactions sent: \" + str(gen_an.reaction_sent_per_user[\"user_to_reaction\"][user]))\n",
    "    print(\"-----------------------------------------------------\")"
   ]
  },
  {
   "cell_type": "code",
   "execution_count": null,
   "metadata": {},
   "outputs": [],
   "source": [
    "print(\"Messages more reacted to\")\n",
    "print(\"-----------------------------------------------------\")\n",
    "for message_id in gen_an.reaction_per_message[\"ordered_mesage_id\"][:10]:\n",
    "    print(gen_an.messages[message_id][\"txt_body\"])\n",
    "    print(\"Topic: \" + str(gen_an.messages[message_id][\"topic\"]))\n",
    "    print(\"From User: \" + str(gen_an.messages[message_id][\"from_user\"]))\n",
    "    print(\"Num Reaction: \" + str(gen_an.reaction_per_message[\"num_reaction\"][message_id]))\n",
    "    print(\"-----------------------------------------------------\")"
   ]
  },
  {
   "cell_type": "code",
   "execution_count": null,
   "metadata": {},
   "outputs": [],
   "source": [
    "print(\"Reactions ordered by use\")\n",
    "print(\"-----------------------------------------------------\")\n",
    "for reaction in gen_an.reaction_popularity_map[\"sorted\"][0][:10]:\n",
    "    print(reaction)\n",
    "    print(gen_an.reaction_popularity_map[\"reactions\"][reaction])\n",
    "    print(\"-----------------------------------------------------\")"
   ]
  }
 ],
 "metadata": {
  "kernelspec": {
   "display_name": "Python 3",
   "language": "python",
   "name": "python3"
  },
  "language_info": {
   "codemirror_mode": {
    "name": "ipython",
    "version": 3
   },
   "file_extension": ".py",
   "mimetype": "text/x-python",
   "name": "python",
   "nbconvert_exporter": "python",
   "pygments_lexer": "ipython3",
   "version": "3.8.5"
  }
 },
 "nbformat": 4,
 "nbformat_minor": 4
}