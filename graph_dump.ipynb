{
 "cells": [
  {
   "cell_type": "code",
   "execution_count": null,
   "metadata": {},
   "outputs": [],
   "source": [
    "from matplotlib import pyplot as plt\n",
    "from GenerateGraphs import GenerateGraphs\n",
    "from datetime import *\n",
    "from generate_analytics import GeneratedAnalytics\n",
    "import numpy as np\n",
    "import joypy\n",
    "import math\n",
    "from ipywidgets import interact\n",
    "import pprint"
   ]
  },
  {
   "cell_type": "code",
   "execution_count": null,
   "metadata": {},
   "outputs": [],
   "source": [
    "gen_an = GeneratedAnalytics(\"sqlite:///exports/dentropydaemon.sqlite\")"
   ]
  },
  {
   "cell_type": "code",
   "execution_count": null,
   "metadata": {},
   "outputs": [],
   "source": [
    "gen_graphs = GenerateGraphs()"
   ]
  },
  {
   "cell_type": "code",
   "execution_count": null,
   "metadata": {},
   "outputs": [],
   "source": [
    "gen_graphs.generate_plots(gen_an.characters_per_user)\n",
    "gen_graphs.generate_plots(gen_an.characters_per_topic)\n",
    "gen_graphs.generate_plots(gen_an.messages_per_user)\n",
    "gen_graphs.generate_plots(gen_an.messages_per_topic)\n",
    "gen_graphs.generate_plots(gen_an.number_users_per_topic)\n",
    "gen_graphs.generate_plots(gen_an.reaction_type_popularity)\n",
    "gen_graphs.generate_plots(gen_an.user_sent_most_reactions)\n",
    "gen_graphs.generate_plots(gen_an.user_recieved_most_reactions)\n",
    "# gen_graphs.generate_plots(gen_an.edits_per_user)\n",
    "# gen_graphs.generate_plots(gen_an.edits_per_topic)\n",
    "# gen_graphs.generate_plots(gen_an.deletes_per_user)\n",
    "# gen_graphs.generate_plots(gen_an.deletes_per_topic)\n",
    "gen_graphs.generate_plots(gen_an.who_edits_most_per_capita)\n",
    "gen_graphs.generate_plots(gen_an.who_deletes_most_per_capita)\n",
    "gen_graphs.generate_plots(gen_an.topic_edits_per_capita)\n",
    "gen_graphs.generate_plots(gen_an.topic_deletes_per_capita)\n",
    "# gen_graphs.generate_plots(gen_an.get_reaction_type_popularity_per_user(\"dentropy\"))\n"
   ]
  }
 ],
 "metadata": {
  "kernelspec": {
   "display_name": "Python 3",
   "language": "python",
   "name": "python3"
  },
  "language_info": {
   "codemirror_mode": {
    "name": "ipython",
    "version": 3
   },
   "file_extension": ".py",
   "mimetype": "text/x-python",
   "name": "python",
   "nbconvert_exporter": "python",
   "pygments_lexer": "ipython3",
   "version": "3.8.5"
  }
 },
 "nbformat": 4,
 "nbformat_minor": 4
}
