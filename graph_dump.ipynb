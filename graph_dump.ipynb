{
 "cells": [
  {
   "cell_type": "code",
   "execution_count": null,
   "metadata": {},
   "outputs": [],
   "source": [
    "from matplotlib import pyplot as plt\n",
    "from datetime import *\n",
    "from matplotlib import cm\n",
    "from generate_analytics import GeneratedAnalytics\n",
    "import numpy as np\n",
    "import joypy\n",
    "import math\n",
    "from ipywidgets import interact"
   ]
  },
  {
   "cell_type": "code",
   "execution_count": null,
   "metadata": {},
   "outputs": [],
   "source": [
    "gen_an = GeneratedAnalytics(\"sqlite:///exports/dentropydaemon.sqlite\")"
   ]
  },
  {
   "cell_type": "code",
   "execution_count": null,
   "metadata": {},
   "outputs": [],
   "source": [
    "def generate_plots(labels_list, numbers_list, title):\n",
    "    plt.plot(labels_list,numbers_list)\n",
    "    plt.title(title)\n",
    "    plt.gca().axes.xaxis.set_visible(False)\n",
    "    plt.show()\n",
    "    plt.loglog(range(len(labels_list)),numbers_list)\n",
    "    plt.title(title)\n",
    "    plt.gca().axes.xaxis.set_visible(False)\n",
    "    plt.show()\n",
    "    plt.pie(numbers_list, labels=labels_list,autopct='%1.1f%%', shadow=True, startangle=140)\n",
    "    plt.title(title)\n",
    "    plt.axis('equal')\n",
    "    plt.show()"
   ]
  },
  {
   "cell_type": "code",
   "execution_count": null,
   "metadata": {},
   "outputs": [],
   "source": [
    "def choose_graph(x):\n",
    "    if x == \"Characters Per User\":\n",
    "        title = \"Characters Per User, Num Users = \" + str(len(gen_an.characters_per_user[\"user\"]))\n",
    "        generate_plots(gen_an.characters_per_user[\"user\"],\n",
    "                       gen_an.characters_per_user[\"characters_per_user\"], \n",
    "                       title)\n",
    "    elif x == \"Characters Per Topic\":\n",
    "        title = \"Characters Per Topic, Num Topics = \" + str(len(gen_an.characters_per_topic[\"topic\"]))\n",
    "        generate_plots(gen_an.characters_per_topic[\"topic\"],\n",
    "                       gen_an.characters_per_topic[\"characters_per_topic\"], \n",
    "                       title)\n",
    "    elif x == \"Messages Per Topic\":\n",
    "        title = \"Messages Per Topic, Num Topics = \" + str(len(gen_an.messages_per_topic[\"topic\"]))\n",
    "        generate_plots(gen_an.messages_per_topic[\"topic\"],\n",
    "                       gen_an.messages_per_topic[\"messages_per_topic\"], \n",
    "                       title)\n",
    "    elif x == \"Messages Per User\":\n",
    "        title = \"Messages Per User, Num Users = \" + str(len(gen_an.messages_per_user[\"messages_per_user\"]))\n",
    "        generate_plots(gen_an.messages_per_user[\"user\"],\n",
    "                   gen_an.messages_per_user[\"messages_per_user\"], \n",
    "                   title)\n",
    "interact(choose_graph, x=['Click Here to Generate a Graph', \n",
    "                          'Characters Per User',\n",
    "                          'Characters Per Topic',\n",
    "                          'Messages Per Topic',\n",
    "                          'Messages Per User']);\n"
   ]
  }
 ],
 "metadata": {
  "kernelspec": {
   "display_name": "Python 3",
   "language": "python",
   "name": "python3"
  },
  "language_info": {
   "codemirror_mode": {
    "name": "ipython",
    "version": 3
   },
   "file_extension": ".py",
   "mimetype": "text/x-python",
   "name": "python",
   "nbconvert_exporter": "python",
   "pygments_lexer": "ipython3",
   "version": "3.8.5"
  }
 },
 "nbformat": 4,
 "nbformat_minor": 4
}
