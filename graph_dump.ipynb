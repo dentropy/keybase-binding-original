{
 "cells": [
  {
   "cell_type": "code",
   "execution_count": null,
   "metadata": {},
   "outputs": [],
   "source": [
    "from matplotlib import pyplot as plt\n",
    "from datetime import *\n",
    "from matplotlib import cm\n",
    "from generate_analytics import GeneratedAnalytics\n",
    "import numpy as np\n",
    "import joypy\n",
    "import math\n",
    "from ipywidgets import interact\n",
    "import pprint"
   ]
  },
  {
   "cell_type": "code",
   "execution_count": null,
   "metadata": {},
   "outputs": [],
   "source": [
    "gen_an = GeneratedAnalytics(\"sqlite:///exports/dentropydaemon.sqlite\")"
   ]
  },
  {
   "cell_type": "code",
   "execution_count": null,
   "metadata": {},
   "outputs": [],
   "source": [
    "def generate_plots(labels_list, numbers_list, title):\n",
    "    plt.plot(labels_list,numbers_list)\n",
    "    plt.title(title)\n",
    "    plt.gca().axes.xaxis.set_visible(False)\n",
    "    plt.show()\n",
    "    plt.loglog(range(len(labels_list)),numbers_list)\n",
    "    plt.title(title)\n",
    "    plt.gca().axes.xaxis.set_visible(False)\n",
    "    plt.show()\n",
    "    plt.pie(numbers_list, labels=labels_list,autopct='%1.1f%%', shadow=True, startangle=140)\n",
    "    plt.title(title)\n",
    "    plt.axis('equal')\n",
    "    plt.show()\n",
    "def generate_plots2(graph_data):\n",
    "    plt.plot(graph_data[\"x_axis\"],graph_data[\"y_axis\"])\n",
    "    plt.title(graph_data[\"title\"])\n",
    "    plt.gca().axes.xaxis.set_visible(False)\n",
    "    plt.show()\n",
    "    plt.loglog(range(len(graph_data[\"x_axis\"])),graph_data[\"y_axis\"])\n",
    "    plt.title(graph_data[\"title\"])\n",
    "    plt.gca().axes.xaxis.set_visible(False)\n",
    "    plt.show()\n",
    "    plt.pie(graph_data[\"y_axis\"], labels=graph_data[\"x_axis\"],autopct='%1.1f%%', shadow=True, startangle=140)\n",
    "    plt.title(graph_data[\"title\"])\n",
    "    plt.axis('equal')\n",
    "    plt.show()"
   ]
  },
  {
   "cell_type": "code",
   "execution_count": null,
   "metadata": {},
   "outputs": [],
   "source": [
    "pprint.pprint(gen_an.reaction_type_popularity)"
   ]
  },
  {
   "cell_type": "code",
   "execution_count": null,
   "metadata": {},
   "outputs": [],
   "source": [
    "# generate_plots2(gen_an.characters_per_user)\n",
    "# generate_plots2(gen_an.characters_per_topic)\n",
    "# generate_plots2(gen_an.messages_per_user)\n",
    "# generate_plots2(gen_an.messages_per_topic)\n",
    "# generate_plots2(gen_an.reaction_type_popularity)"
   ]
  },
  {
   "cell_type": "markdown",
   "metadata": {},
   "source": [
    "'''\n",
    "Graphs TODO\n",
    "number_users_per_topic\n",
    "reaction_per_message\n",
    "reaction_sent_per_user\n",
    "reaction_type_popularity\n",
    "edits_per_user\n",
    "edits_per_topic\n",
    "deletes_per_user\n",
    "deletes_per_topic\n",
    "top_domains\n",
    "who_deletes_most_per_capita\n",
    "who_edits_most_per_capita\n",
    "topic_deletes_per_capita\n",
    "topic_edits_per_capita\n",
    "'''"
   ]
  },
  {
   "cell_type": "code",
   "execution_count": null,
   "metadata": {},
   "outputs": [],
   "source": [
    "def choose_graph(x):\n",
    "    if x == \"Characters Per User\":\n",
    "        generate_plots2(gen_an.characters_per_user)\n",
    "    elif x == \"Characters Per Topic\":\n",
    "        generate_plots2(gen_an.characters_per_topic)\n",
    "    elif x == \"Messages Per User\":\n",
    "        generate_plots2(gen_an.messages_per_user)\n",
    "    elif x == \"Messages Per Topic\":\n",
    "        generate_plots2(gen_an.messages_per_topic)\n",
    "    elif x == \"Number User Per Topic\":\n",
    "        title = \"Number User Per Topic\"\n",
    "        generate_plots(gen_an.number_users_per_topic[\"users_list\"],\n",
    "                           gen_an.number_users_per_topic[\"topics_list\"], \n",
    "                           title)\n",
    "interact(choose_graph, x=['Click Here to Generate a Graph', \n",
    "                          'Characters Per User',\n",
    "                          'Characters Per Topic',\n",
    "                          'Messages Per Topic',\n",
    "                          'Messages Per User',\n",
    "                          'Number User Per Topic']);\n",
    "\n"
   ]
  }
 ],
 "metadata": {
  "kernelspec": {
   "display_name": "Python 3",
   "language": "python",
   "name": "python3"
  },
  "language_info": {
   "codemirror_mode": {
    "name": "ipython",
    "version": 3
   },
   "file_extension": ".py",
   "mimetype": "text/x-python",
   "name": "python",
   "nbconvert_exporter": "python",
   "pygments_lexer": "ipython3",
   "version": "3.8.5"
  }
 },
 "nbformat": 4,
 "nbformat_minor": 4
}
