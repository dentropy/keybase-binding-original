{
 "cells": [
  {
   "cell_type": "code",
   "execution_count": 1,
   "metadata": {},
   "outputs": [
    {
     "name": "stdout",
     "output_type": "stream",
     "text": [
      "Loaded 1788 messages\n",
      "--> from 94 users\n",
      "--> spanning 40 topics\n",
      "Finished initializing analytics object.\n"
     ]
    }
   ],
   "source": [
    "import matplotlib.pyplot as plt\n",
    "from generate_analytics import GeneratedAnalytics\n",
    "gen_an = GeneratedAnalytics(\"sqlite:///complexityweekend.sqlite\")"
   ]
  },
  {
   "cell_type": "code",
   "execution_count": 2,
   "metadata": {},
   "outputs": [
    {
     "name": "stdout",
     "output_type": "stream",
     "text": [
      "Users who sent most reactions\n",
      "-----------------------------------------------------\n",
      "drproton\n",
      "Num of reactions sent: 456\n",
      "-----------------------------------------------------\n",
      "complexityteam\n",
      "Num of reactions sent: 284\n",
      "-----------------------------------------------------\n",
      "rj_cordes\n",
      "Num of reactions sent: 198\n",
      "-----------------------------------------------------\n",
      "murphlf\n",
      "Num of reactions sent: 178\n",
      "-----------------------------------------------------\n",
      "docxology\n",
      "Num of reactions sent: 175\n",
      "-----------------------------------------------------\n",
      "squasha\n",
      "Num of reactions sent: 138\n",
      "-----------------------------------------------------\n",
      "seebee\n",
      "Num of reactions sent: 73\n",
      "-----------------------------------------------------\n",
      "monicakang\n",
      "Num of reactions sent: 72\n",
      "-----------------------------------------------------\n",
      "jakakistan\n",
      "Num of reactions sent: 63\n",
      "-----------------------------------------------------\n",
      "lulugato12\n",
      "Num of reactions sent: 53\n",
      "-----------------------------------------------------\n"
     ]
    }
   ],
   "source": [
    "print(\"Users who sent most reactions\")\n",
    "print(\"-----------------------------------------------------\")\n",
    "gen_an.get_reaction_sent_per_user\n",
    "for user in gen_an.reaction_sent_per_user[\"ordered_user\"][:10]:\n",
    "    print(user)\n",
    "    print(\"Num of reactions sent: \" + str(gen_an.reaction_sent_per_user[\"user_to_reaction\"][user]))\n",
    "    print(\"-----------------------------------------------------\")"
   ]
  },
  {
   "cell_type": "code",
   "execution_count": 3,
   "metadata": {},
   "outputs": [
    {
     "name": "stdout",
     "output_type": "stream",
     "text": [
      "Messages more reacted to\n",
      "-----------------------------------------------------\n",
      "who's watching the livestream?? :) \n",
      "Topic: general\n",
      "From User: complexityteam\n",
      "Num Reaction: 20\n",
      "-----------------------------------------------------\n",
      "Hello everyone! I am a facilitator based in the UK (outside London) and I'll be here from time to time to help and learn from everyone too. Whatever I can do to help please write me a line in public or private message. I can help with questions about cellular automata, Wolfram's science, causality, algorithmic complexity, information theory, and randomness. Enjoy the weekend!\n",
      "Topic: introductions\n",
      "From User: hectorzenil\n",
      "Num Reaction: 20\n",
      "-----------------------------------------------------\n",
      "Here is the livestream URL for the Closing Ceremony (including Team Presentations) starting at 3 PM PDT in 9 minutes: https://youtu.be/nZWyo-XGZoA\n",
      "\n",
      "Here is the Jamboard URL Monica will be leading us through: https://jamboard.google.com/d/18jLaj5YBAOUOM6KEnTCahU_kMmdilhxAJBtVFTmgMCM/viewer?f=1\n",
      "\n",
      "Teams can figure out their presentation times (and access the Green Room Jitsi url) via the 3 PM PDT section of the Weekend Schedule in the Program: https://docs.google.com/spreadsheets/d/1v_Ee87mmNNV8UfEGEhb10Q3ZH5YRyBCdDfEfOK7hmvA/edit#gid=1637275330 \n",
      "\n",
      ":ant::tada::grin:\n",
      "Topic: general\n",
      "From User: complexityteam\n",
      "Num Reaction: 18\n",
      "-----------------------------------------------------\n",
      "Hello all. I am a entomologist (insect biologist) and also an organizer for this hackathon. I have been learning about Complexity since attending a summer school at Santa Fe Institute in 2015 (where I met @jpg505), and co-organizing the Stanford Complexity Group up till 2019 (where I met @drproton). I also like topics such as arts + crafts, improv, and computers. Looking forward to meeting & working with you all!\n",
      "Topic: introductions\n",
      "From User: docxology\n",
      "Num Reaction: 18\n",
      "-----------------------------------------------------\n",
      "Thank you to our Organizers @docxology @jpg505 @drproton  <3\n",
      "Topic: general\n",
      "From User: squasha\n",
      "Num Reaction: 17\n",
      "-----------------------------------------------------\n",
      "Hi all,  I have been so far a medical doctor, bioinformatician, security researcher/cryptographer, strategy consultant, retail banker and for last 8+ yrs working on blockchain ( either help design or  review half a dozen blockchains including top two out of top three crypto , and a dozen distributed apps). Strong believer of interdisciplinary. Interested in complexity both from architectural perspective and from provable security perspective ...\n",
      "Topic: introductions\n",
      "From User: zeroknowledge\n",
      "Num Reaction: 17\n",
      "-----------------------------------------------------\n",
      "Hello everyone! I just graduated from the master in Global Environmental Governance, which is a sub-field of Political Science.\n",
      "I am currently writing a research proposal for my PhD, where my goal is to analyze long standing theories from Global Environmental Politics from the angle of systems thinking and system dynamics, especially those about the effectiveness from international agreements. If you have common interests, do reach out! Now is the perfect time to find collaborators for this research project!! :blush:\n",
      "Topic: introductions\n",
      "From User: montsekoloffon\n",
      "Num Reaction: 17\n",
      "-----------------------------------------------------\n",
      "Hi everyone, my name is Sasha. I am a Neuroscience PhD student and also a facilitator for this weekend. I have been learning about Complexity Science since attending SFI summer school in 2018. I would like to explore how neuroscience can help us tap into team narrative building :) I also enjoy making biology-themed embroidery and speaking in Russian :ru: \n",
      "Topic: introductions\n",
      "From User: squasha\n",
      "Num Reaction: 17\n",
      "-----------------------------------------------------\n",
      "Here are some important links now that our CW Oct 16-18 virtual weekend hackathon experience has come to an end (until we reconnect again at our community's next monthly Heartbeat event, November 21):\n",
      "\n",
      "- the post-CW survey for Participants and Facilitators (please fill it out even if you didn't attend the full weekend experience - it is critical for us to improve the experience): https://forms.gle/jE46bWS7ysix8GZt6\n",
      "\n",
      "- the Complexity Weekend Oct 2020 virtual hackathon Program (which includes participant and facilitator Keybase names for continued collaboration): https://docs.google.com/spreadsheets/d/1v_Ee87mmNNV8UfEGEhb10Q3ZH5YRyBCdDfEfOK7hmvA/edit#gid=1637275330\n",
      "\n",
      "- the Organizers' closing slide deck (which includes information on our cohort and upcoming community events): https://docs.google.com/presentation/d/1h6wKB9FGMx51etUFF6Do8t1iFaDqo-7kav5NHynASvs/edit#slide=id.g93491df709_0_14\n",
      "\n",
      "- the unlisted Flipped Classroom playlist full of pre-recorded Facilitator videos: https://www.youtube.com/playlist?list=PL-gMn-lI3siVydfQlivpnwQLQuOG46AYu (please do not share outside of our cohort)\n",
      "\n",
      "- the unlisted playlist of all livestreams during the CW Oct 2020 virtual weekend hackathon (Oct 16-18, 2020): https://www.youtube.com/playlist?list=PL-gMn-lI3siXtR8g5fJWjq4dmtWpN5Ghs (please do not share outside of our cohort)\n",
      "\n",
      "- jamboards from the weekend:\n",
      "> sat afternoon: https://jamboard.google.com/d/1goIuqrY7ZNIga6MQtLhc5FIwqUo8jlwegsFTSZBwvJg/viewer?f=0\n",
      "> sun morning: https://jamboard.google.com/d/1it7B-hLbEfU8M-QrZMJvzu13TpuQEjFLdEJRfuJnmz0/viewer?f=0\n",
      "> sun evening: https://jamboard.google.com/d/18jLaj5YBAOUOM6KEnTCahU_kMmdilhxAJBtVFTmgMCM/viewer?f=0 \n",
      "\n",
      "Topic: general\n",
      "From User: complexityteam\n",
      "Num Reaction: 16\n",
      "-----------------------------------------------------\n",
      "Hi everyone, I'm Anca and I'm interested in complexity in ecology, plant environment interactions as well as interactions between plants, microbes, abiotic factors, insects and other plants (communication and allelopathy) :upside_down_face:\n",
      "Topic: introductions\n",
      "From User: cbarcu\n",
      "Num Reaction: 16\n",
      "-----------------------------------------------------\n"
     ]
    }
   ],
   "source": [
    "print(\"Messages more reacted to\")\n",
    "print(\"-----------------------------------------------------\")\n",
    "for message_id in gen_an.reaction_per_message[\"ordered_mesage_id\"][:10]:\n",
    "    print(gen_an.messages[message_id][\"txt_body\"])\n",
    "    print(\"Topic: \" + str(gen_an.messages[message_id][\"topic\"]))\n",
    "    print(\"From User: \" + str(gen_an.messages[message_id][\"from_user\"]))\n",
    "    print(\"Num Reaction: \" + str(gen_an.reaction_per_message[\"num_reaction\"][message_id]))\n",
    "    print(\"-----------------------------------------------------\")"
   ]
  },
  {
   "cell_type": "code",
   "execution_count": 4,
   "metadata": {},
   "outputs": [
    {
     "name": "stdout",
     "output_type": "stream",
     "text": [
      "Reactions ordered by use\n",
      "-----------------------------------------------------\n",
      ":+1:\n",
      "506\n",
      "-----------------------------------------------------\n",
      ":ant:\n",
      "331\n",
      "-----------------------------------------------------\n",
      ":wave:\n",
      "241\n",
      "-----------------------------------------------------\n",
      ":white_check_mark:\n",
      "158\n",
      "-----------------------------------------------------\n",
      ":fire:\n",
      "111\n",
      "-----------------------------------------------------\n",
      ":clap:\n",
      "104\n",
      "-----------------------------------------------------\n",
      ":tada:\n",
      "96\n",
      "-----------------------------------------------------\n",
      ":unicorn_face:\n",
      "62\n",
      "-----------------------------------------------------\n",
      ":sparkles:\n",
      "57\n",
      "-----------------------------------------------------\n",
      ":shrimp:\n",
      "46\n",
      "-----------------------------------------------------\n"
     ]
    }
   ],
   "source": [
    "print(\"Reactions ordered by use\")\n",
    "print(\"-----------------------------------------------------\")\n",
    "for reaction in gen_an.reaction_popularity_map[\"sorted\"][0][:10]:\n",
    "    print(reaction)\n",
    "    print(gen_an.reaction_popularity_map[\"reactions\"][reaction])\n",
    "    print(\"-----------------------------------------------------\")"
   ]
  }
 ],
 "metadata": {
  "kernelspec": {
   "display_name": "Python 3",
   "language": "python",
   "name": "python3"
  },
  "language_info": {
   "codemirror_mode": {
    "name": "ipython",
    "version": 3
   },
   "file_extension": ".py",
   "mimetype": "text/x-python",
   "name": "python",
   "nbconvert_exporter": "python",
   "pygments_lexer": "ipython3",
   "version": "3.7.3"
  }
 },
 "nbformat": 4,
 "nbformat_minor": 4
}
