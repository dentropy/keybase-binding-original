{
 "cells": [
  {
   "cell_type": "code",
   "execution_count": null,
   "metadata": {},
   "outputs": [],
   "source": [
    "import pprint\n",
    "from modules.TimeAnalytics import TimeAnalytics\n",
    "from modules.GenerateGraphs import GenerateGraphs\n",
    "time_an = TimeAnalytics(\"sqlite:///exports/dentropydaemon.sqlite\")\n",
    "gen_graphs = GenerateGraphs()"
   ]
  },
  {
   "cell_type": "code",
   "execution_count": null,
   "metadata": {},
   "outputs": [],
   "source": [
    "tmp_messages = time_an.get_all_team_messages(\"dentropydaemon\")\n",
    "# tmp_messages = time_an.get_all_user_messages(\"dentropy\")\n",
    "# tmp_messages = get_all_topic_messages(\"general\")\n",
    "# tmp_messages = get_user_messages_from_team(\"dentropydaemon\", \"dentropy\")"
   ]
  },
  {
   "cell_type": "code",
   "execution_count": null,
   "metadata": {},
   "outputs": [],
   "source": [
    "a = time_an.messages_per_day(tmp_messages)"
   ]
  },
  {
   "cell_type": "code",
   "execution_count": null,
   "metadata": {},
   "outputs": [],
   "source": [
    "tmp_messages[0].sent_time.time()"
   ]
  },
  {
   "cell_type": "code",
   "execution_count": null,
   "metadata": {},
   "outputs": [],
   "source": [
    "gen_graphs.generate_plots(time_an.messages_per_day_of_week(tmp_messages))"
   ]
  },
  {
   "cell_type": "code",
   "execution_count": null,
   "metadata": {},
   "outputs": [],
   "source": [
    "gen_graphs.generate_plots(time_an.messages_per_day(tmp_messages))"
   ]
  },
  {
   "cell_type": "code",
   "execution_count": null,
   "metadata": {},
   "outputs": [],
   "source": [
    "time_an.hours_vs_day_scatter_plot(tmp_messages)\n",
    "\n"
   ]
  },
  {
   "cell_type": "code",
   "execution_count": null,
   "metadata": {},
   "outputs": [],
   "source": [
    "# There will be an error, it is a problem with the library\n",
    "# Date visualization is still generated, for now\n",
    "time_an.plot_calendar_heatmap(tmp_messages)"
   ]
  }
 ],
 "metadata": {
  "kernelspec": {
   "display_name": "Python 3",
   "language": "python",
   "name": "python3"
  },
  "language_info": {
   "codemirror_mode": {
    "name": "ipython",
    "version": 3
   },
   "file_extension": ".py",
   "mimetype": "text/x-python",
   "name": "python",
   "nbconvert_exporter": "python",
   "pygments_lexer": "ipython3",
   "version": "3.8.5"
  }
 },
 "nbformat": 4,
 "nbformat_minor": 4
}
